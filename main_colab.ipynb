{
  "nbformat": 4,
  "nbformat_minor": 0,
  "metadata": {
    "colab": {
      "provenance": [],
      "include_colab_link": true
    },
    "kernelspec": {
      "name": "python3",
      "display_name": "Python 3"
    },
    "language_info": {
      "name": "python"
    },
    "accelerator": "TPU",
    "gpuClass": "standard"
  },
  "cells": [
    {
      "cell_type": "markdown",
      "metadata": {
        "id": "view-in-github",
        "colab_type": "text"
      },
      "source": [
        "<a href=\"https://colab.research.google.com/github/aashishkhimasia/google-research/blob/master/main_colab.ipynb\" target=\"_parent\"><img src=\"https://colab.research.google.com/assets/colab-badge.svg\" alt=\"Open In Colab\"/></a>"
      ]
    },
    {
      "cell_type": "code",
      "execution_count": null,
      "metadata": {
        "colab": {
          "base_uri": "https://localhost:8080/"
        },
        "id": "a7vYQbdzC5cz",
        "outputId": "ac69ac8b-b778-4d36-984d-53d88c5e1811"
      },
      "outputs": [
        {
          "output_type": "stream",
          "name": "stdout",
          "text": [
            "Cloning into 'google-research'...\n",
            "remote: Enumerating objects: 89, done.\u001b[K\n",
            "remote: Total 89 (delta 0), reused 0 (delta 0), pack-reused 89\u001b[K\n",
            "Unpacking objects: 100% (89/89), done.\n"
          ]
        }
      ],
      "source": [
        "!git clone https://github.com/aashishkhimasia/google-research"
      ]
    },
    {
      "cell_type": "code",
      "source": [
        "!pip install tensorflow==2.7.0\n",
        "!pip install tensorflow-addons==0.15.0\n",
        "!pip install tensorflow-probability==0.15.0\n",
        "!pip install tensorflow_text==2.7.0\n",
        "!pip install keras==2.7.0\n",
        "!pip install scikit-image\n",
        "!pip install scikit-learn\n",
        "!pip install scipy\n",
        "!pip install six\n",
        "!pip install numpy\n",
        "!pip install PyYAML\n",
        "\n",
        "!pip install absl-py\n",
        "!pip install sentencepiece\n",
        "!pip install tensorflow_text>=2.0.0\n",
        "!pip install git+https://github.com/deepmind/dmvr.git\n",
        "!pip install git+https://github.com/openai/CLIP.git\n",
        "\n",
        "!pip install pandas\n",
        "#!pip install ffmpeg Needed to not install this and only use ffmpeg-python\n",
        "!pip install ffmpeg-python\n",
        "!pip install unrar"
      ],
      "metadata": {
        "id": "p7DZFguVIivQ"
      },
      "execution_count": null,
      "outputs": []
    },
    {
      "cell_type": "code",
      "source": [
        "!pip install google-cloud-storage"
      ],
      "metadata": {
        "id": "Ws6uw8ky2fhT",
        "outputId": "fbdd9c7e-e389-47ba-e91f-33f3fe24f9c4",
        "colab": {
          "base_uri": "https://localhost:8080/"
        }
      },
      "execution_count": null,
      "outputs": [
        {
          "output_type": "stream",
          "name": "stdout",
          "text": [
            "Looking in indexes: https://pypi.org/simple, https://us-python.pkg.dev/colab-wheels/public/simple/\n",
            "Requirement already satisfied: google-cloud-storage in /usr/local/lib/python3.8/dist-packages (2.7.0)\n",
            "Requirement already satisfied: google-auth<3.0dev,>=1.25.0 in /usr/local/lib/python3.8/dist-packages (from google-cloud-storage) (2.15.0)\n",
            "Requirement already satisfied: google-cloud-core<3.0dev,>=2.3.0 in /usr/local/lib/python3.8/dist-packages (from google-cloud-storage) (2.3.2)\n",
            "Requirement already satisfied: requests<3.0.0dev,>=2.18.0 in /usr/local/lib/python3.8/dist-packages (from google-cloud-storage) (2.25.1)\n",
            "Requirement already satisfied: google-api-core!=2.0.*,!=2.1.*,!=2.2.*,!=2.3.0,<3.0.0dev,>=1.31.5 in /usr/local/lib/python3.8/dist-packages (from google-cloud-storage) (2.11.0)\n",
            "Requirement already satisfied: google-resumable-media>=2.3.2 in /usr/local/lib/python3.8/dist-packages (from google-cloud-storage) (2.4.0)\n",
            "Requirement already satisfied: googleapis-common-protos<2.0dev,>=1.56.2 in /usr/local/lib/python3.8/dist-packages (from google-api-core!=2.0.*,!=2.1.*,!=2.2.*,!=2.3.0,<3.0.0dev,>=1.31.5->google-cloud-storage) (1.57.0)\n",
            "Requirement already satisfied: protobuf!=3.20.0,!=3.20.1,!=4.21.0,!=4.21.1,!=4.21.2,!=4.21.3,!=4.21.4,!=4.21.5,<5.0.0dev,>=3.19.5 in /usr/local/lib/python3.8/dist-packages (from google-api-core!=2.0.*,!=2.1.*,!=2.2.*,!=2.3.0,<3.0.0dev,>=1.31.5->google-cloud-storage) (3.19.6)\n",
            "Requirement already satisfied: six>=1.9.0 in /usr/local/lib/python3.8/dist-packages (from google-auth<3.0dev,>=1.25.0->google-cloud-storage) (1.15.0)\n",
            "Requirement already satisfied: pyasn1-modules>=0.2.1 in /usr/local/lib/python3.8/dist-packages (from google-auth<3.0dev,>=1.25.0->google-cloud-storage) (0.2.8)\n",
            "Requirement already satisfied: rsa<5,>=3.1.4 in /usr/local/lib/python3.8/dist-packages (from google-auth<3.0dev,>=1.25.0->google-cloud-storage) (4.9)\n",
            "Requirement already satisfied: cachetools<6.0,>=2.0.0 in /usr/local/lib/python3.8/dist-packages (from google-auth<3.0dev,>=1.25.0->google-cloud-storage) (5.2.0)\n",
            "Requirement already satisfied: google-crc32c<2.0dev,>=1.0 in /usr/local/lib/python3.8/dist-packages (from google-resumable-media>=2.3.2->google-cloud-storage) (1.5.0)\n",
            "Requirement already satisfied: certifi>=2017.4.17 in /usr/local/lib/python3.8/dist-packages (from requests<3.0.0dev,>=2.18.0->google-cloud-storage) (2022.12.7)\n",
            "Requirement already satisfied: urllib3<1.27,>=1.21.1 in /usr/local/lib/python3.8/dist-packages (from requests<3.0.0dev,>=2.18.0->google-cloud-storage) (1.24.3)\n",
            "Requirement already satisfied: chardet<5,>=3.0.2 in /usr/local/lib/python3.8/dist-packages (from requests<3.0.0dev,>=2.18.0->google-cloud-storage) (4.0.0)\n",
            "Requirement already satisfied: idna<3,>=2.5 in /usr/local/lib/python3.8/dist-packages (from requests<3.0.0dev,>=2.18.0->google-cloud-storage) (2.10)\n",
            "Requirement already satisfied: pyasn1<0.5.0,>=0.4.6 in /usr/local/lib/python3.8/dist-packages (from pyasn1-modules>=0.2.1->google-auth<3.0dev,>=1.25.0->google-cloud-storage) (0.4.8)\n"
          ]
        }
      ]
    },
    {
      "cell_type": "code",
      "source": [
        "#!tar -xzf \"gs://dissertation-adk/pretrained_emb_voc/vision_vatt_misc_data.tgz\" #-C \"/content/google-research/vatt/misc/\"    \n",
        "#!tar -xvzf \"gs://dissertation-adk/pretrained_emb_voc/vision_vatt_misc_data.tgz\""
      ],
      "metadata": {
        "id": "4Px6-Jjhnigv",
        "colab": {
          "base_uri": "https://localhost:8080/"
        },
        "outputId": "e05e2cfe-1785-4303-93d5-d92c29fd566b"
      },
      "execution_count": null,
      "outputs": [
        {
          "output_type": "stream",
          "name": "stdout",
          "text": [
            "tar (child): Cannot connect to gs: resolve failed\n",
            "\n",
            "gzip: stdin: unexpected end of file\n",
            "tar: Child returned status 128\n",
            "tar: Error is not recoverable: exiting now\n"
          ]
        }
      ]
    },
    {
      "cell_type": "code",
      "source": [
        "!tar -xvzf \"/content/vision_vatt_misc_data.tgz\" "
      ],
      "metadata": {
        "colab": {
          "base_uri": "https://localhost:8080/"
        },
        "id": "QRcQsKly7BY9",
        "outputId": "0f6083ed-018b-476f-94d6-0a455c08d9b3"
      },
      "execution_count": null,
      "outputs": [
        {
          "output_type": "stream",
          "name": "stdout",
          "text": [
            "misc/\n",
            "misc/bert_uncased_large.pkl\n",
            "misc/howto100m_en.txt\n",
            "misc/bert_uncased_base.pkl\n",
            "misc/bert_uncased_small.pkl\n",
            "misc/word2vec.pkl\n",
            "misc/bert_uncased_en.txt\n"
          ]
        }
      ]
    },
    {
      "cell_type": "markdown",
      "source": [
        "Main.py from vatt (with edits from LG)"
      ],
      "metadata": {
        "id": "nCyTmhbpIsSf"
      }
    },
    {
      "cell_type": "code",
      "source": [
        "%cd /content/google-research"
      ],
      "metadata": {
        "colab": {
          "base_uri": "https://localhost:8080/"
        },
        "id": "xBhOUfEwdGxJ",
        "outputId": "633a73da-e578-4168-d3a3-30a24429ffe1"
      },
      "execution_count": null,
      "outputs": [
        {
          "output_type": "stream",
          "name": "stdout",
          "text": [
            "/content/google-research\n"
          ]
        }
      ]
    },
    {
      "cell_type": "code",
      "source": [
        "! wget -P google-research/checkpoints https://storage.cloud.google.com/tf_model_garden/vision/vatt/pretrain/ut_fac_medium/ckpt-500000.data-00000-of-00001\n",
        "! wget -P google-research/checkpoints https://storage.cloud.google.com/tf_model_garden/vision/vatt/pretrain/ut_fac_medium/ckpt-500000.index"
      ],
      "metadata": {
        "colab": {
          "base_uri": "https://localhost:8080/"
        },
        "id": "Sjlygwjqqcgf",
        "outputId": "2946ad0a-38fb-4f95-c54d-fb5a5e959b0c"
      },
      "execution_count": null,
      "outputs": [
        {
          "output_type": "stream",
          "name": "stdout",
          "text": [
            "--2023-01-03 22:11:25--  https://storage.cloud.google.com/tf_model_garden/vision/vatt/pretrain/ut_fac_medium/ckpt-500000.data-00000-of-00001\n",
            "Resolving storage.cloud.google.com (storage.cloud.google.com)... 74.125.132.139, 74.125.132.113, 74.125.132.102, ...\n",
            "Connecting to storage.cloud.google.com (storage.cloud.google.com)|74.125.132.139|:443... connected.\n",
            "HTTP request sent, awaiting response... 302 Found\n",
            "Location: https://accounts.google.com/ServiceLogin?service=cds&passive=1209600&continue=https://storage.cloud.google.com/tf_model_garden/vision/vatt/pretrain/ut_fac_medium/ckpt-500000.data-00000-of-00001&followup=https://storage.cloud.google.com/tf_model_garden/vision/vatt/pretrain/ut_fac_medium/ckpt-500000.data-00000-of-00001 [following]\n",
            "--2023-01-03 22:11:25--  https://accounts.google.com/ServiceLogin?service=cds&passive=1209600&continue=https://storage.cloud.google.com/tf_model_garden/vision/vatt/pretrain/ut_fac_medium/ckpt-500000.data-00000-of-00001&followup=https://storage.cloud.google.com/tf_model_garden/vision/vatt/pretrain/ut_fac_medium/ckpt-500000.data-00000-of-00001\n",
            "Resolving accounts.google.com (accounts.google.com)... 209.85.147.84, 2607:f8b0:4001:c1e::54\n",
            "Connecting to accounts.google.com (accounts.google.com)|209.85.147.84|:443... connected.\n",
            "HTTP request sent, awaiting response... 302 Moved Temporarily\n",
            "Location: https://accounts.google.com/v3/signin/identifier?dsh=S-83016459%3A1672783885999527&continue=https%3A%2F%2Fstorage.cloud.google.com%2Ftf_model_garden%2Fvision%2Fvatt%2Fpretrain%2Fut_fac_medium%2Fckpt-500000.data-00000-of-00001&followup=https%3A%2F%2Fstorage.cloud.google.com%2Ftf_model_garden%2Fvision%2Fvatt%2Fpretrain%2Fut_fac_medium%2Fckpt-500000.data-00000-of-00001&passive=1209600&service=cds&flowName=WebLiteSignIn&flowEntry=ServiceLogin&ifkv=AeAAQh5AJF--HtmtFKGZK7dH-IIqSQFbpaWTRo4dGWfg2h3wJWfjeng2xir2vaY3P5IDgbzqRRjk [following]\n",
            "--2023-01-03 22:11:26--  https://accounts.google.com/v3/signin/identifier?dsh=S-83016459%3A1672783885999527&continue=https%3A%2F%2Fstorage.cloud.google.com%2Ftf_model_garden%2Fvision%2Fvatt%2Fpretrain%2Fut_fac_medium%2Fckpt-500000.data-00000-of-00001&followup=https%3A%2F%2Fstorage.cloud.google.com%2Ftf_model_garden%2Fvision%2Fvatt%2Fpretrain%2Fut_fac_medium%2Fckpt-500000.data-00000-of-00001&passive=1209600&service=cds&flowName=WebLiteSignIn&flowEntry=ServiceLogin&ifkv=AeAAQh5AJF--HtmtFKGZK7dH-IIqSQFbpaWTRo4dGWfg2h3wJWfjeng2xir2vaY3P5IDgbzqRRjk\n",
            "Reusing existing connection to accounts.google.com:443.\n",
            "HTTP request sent, awaiting response... 200 OK\n",
            "Length: unspecified [text/html]\n",
            "Saving to: ‘google-research/checkpoints/ckpt-500000.data-00000-of-00001.1’\n",
            "\n",
            "\r          ckpt-5000     [<=>                 ]       0  --.-KB/s               \rckpt-500000.data-00     [ <=>                ] 139.95K  --.-KB/s    in 0.02s   \n",
            "\n",
            "2023-01-03 22:11:26 (8.58 MB/s) - ‘google-research/checkpoints/ckpt-500000.data-00000-of-00001.1’ saved [143305]\n",
            "\n",
            "--2023-01-03 22:11:26--  https://storage.cloud.google.com/tf_model_garden/vision/vatt/pretrain/ut_fac_medium/ckpt-500000.index\n",
            "Resolving storage.cloud.google.com (storage.cloud.google.com)... 74.125.132.139, 74.125.132.113, 74.125.132.102, ...\n",
            "Connecting to storage.cloud.google.com (storage.cloud.google.com)|74.125.132.139|:443... connected.\n",
            "HTTP request sent, awaiting response... 302 Found\n",
            "Location: https://accounts.google.com/ServiceLogin?service=cds&passive=1209600&continue=https://storage.cloud.google.com/tf_model_garden/vision/vatt/pretrain/ut_fac_medium/ckpt-500000.index&followup=https://storage.cloud.google.com/tf_model_garden/vision/vatt/pretrain/ut_fac_medium/ckpt-500000.index [following]\n",
            "--2023-01-03 22:11:26--  https://accounts.google.com/ServiceLogin?service=cds&passive=1209600&continue=https://storage.cloud.google.com/tf_model_garden/vision/vatt/pretrain/ut_fac_medium/ckpt-500000.index&followup=https://storage.cloud.google.com/tf_model_garden/vision/vatt/pretrain/ut_fac_medium/ckpt-500000.index\n",
            "Resolving accounts.google.com (accounts.google.com)... 209.85.147.84, 2607:f8b0:4001:c1e::54\n",
            "Connecting to accounts.google.com (accounts.google.com)|209.85.147.84|:443... connected.\n",
            "HTTP request sent, awaiting response... 302 Moved Temporarily\n",
            "Location: https://accounts.google.com/v3/signin/identifier?dsh=S721993220%3A1672783886245821&continue=https%3A%2F%2Fstorage.cloud.google.com%2Ftf_model_garden%2Fvision%2Fvatt%2Fpretrain%2Fut_fac_medium%2Fckpt-500000.index&followup=https%3A%2F%2Fstorage.cloud.google.com%2Ftf_model_garden%2Fvision%2Fvatt%2Fpretrain%2Fut_fac_medium%2Fckpt-500000.index&passive=1209600&service=cds&flowName=WebLiteSignIn&flowEntry=ServiceLogin&ifkv=AeAAQh7Uo3C9T6X6lplfJD5Ie3i5-MftQLQbpIG_b-dTGs80bgmxcpaCauVb9pJWg4JJnhwbCai9 [following]\n",
            "--2023-01-03 22:11:26--  https://accounts.google.com/v3/signin/identifier?dsh=S721993220%3A1672783886245821&continue=https%3A%2F%2Fstorage.cloud.google.com%2Ftf_model_garden%2Fvision%2Fvatt%2Fpretrain%2Fut_fac_medium%2Fckpt-500000.index&followup=https%3A%2F%2Fstorage.cloud.google.com%2Ftf_model_garden%2Fvision%2Fvatt%2Fpretrain%2Fut_fac_medium%2Fckpt-500000.index&passive=1209600&service=cds&flowName=WebLiteSignIn&flowEntry=ServiceLogin&ifkv=AeAAQh7Uo3C9T6X6lplfJD5Ie3i5-MftQLQbpIG_b-dTGs80bgmxcpaCauVb9pJWg4JJnhwbCai9\n",
            "Reusing existing connection to accounts.google.com:443.\n",
            "HTTP request sent, awaiting response... 200 OK\n",
            "Length: unspecified [text/html]\n",
            "Saving to: ‘google-research/checkpoints/ckpt-500000.index.1’\n",
            "\n",
            "ckpt-500000.index.1     [ <=>                ] 141.07K  --.-KB/s    in 0.03s   \n",
            "\n",
            "2023-01-03 22:11:26 (4.73 MB/s) - ‘google-research/checkpoints/ckpt-500000.index.1’ saved [144458]\n",
            "\n"
          ]
        }
      ]
    },
    {
      "cell_type": "code",
      "source": [
        "!gcloud auth application-default login"
      ],
      "metadata": {
        "id": "EVoL1rhjxQSF",
        "outputId": "225ff254-b7de-4ee9-f344-c3bd31218fa7",
        "colab": {
          "base_uri": "https://localhost:8080/"
        }
      },
      "execution_count": null,
      "outputs": [
        {
          "output_type": "stream",
          "name": "stdout",
          "text": [
            "Go to the following link in your browser:\n",
            "\n",
            "    https://accounts.google.com/o/oauth2/auth?response_type=code&client_id=764086051850-6qr4p6gpi6hn506pt8ejuq83di341hur.apps.googleusercontent.com&redirect_uri=https%3A%2F%2Fsdk.cloud.google.com%2Fapplicationdefaultauthcode.html&scope=openid+https%3A%2F%2Fwww.googleapis.com%2Fauth%2Fuserinfo.email+https%3A%2F%2Fwww.googleapis.com%2Fauth%2Fcloud-platform+https%3A%2F%2Fwww.googleapis.com%2Fauth%2Fsqlservice.login+https%3A%2F%2Fwww.googleapis.com%2Fauth%2Faccounts.reauth&state=RXGLKsQ0h6MHD27PfPZYxHnY3BjRAY&prompt=consent&access_type=offline&code_challenge=cnLcvGqbSX6vYESTEfB34MH4edoKQ-oWILYYOQ6C0uc&code_challenge_method=S256\n",
            "\n",
            "Enter authorization code: 4/0AWgavdfIIkxJQAT5xE8eXu6wBFCuE0LYPRtNgo7Ysk9y8OUe7Ipbd33gq2rnm4_s_Lmr_Q\n",
            "\n",
            "Credentials saved to file: [/content/.config/application_default_credentials.json]\n",
            "\n",
            "These credentials will be used by any library that requests Application Default Credentials (ADC).\n",
            "\u001b[1;33mWARNING:\u001b[0m \n",
            "Cannot find a quota project to add to ADC. You might receive a \"quota exceeded\" or \"API not enabled\" error. Run $ gcloud auth application-default set-quota-project to add a quota project.\n"
          ]
        }
      ]
    },
    {
      "cell_type": "code",
      "source": [
        "!gcloud auth application-default set-quota-project \"ornate-bond-268018\""
      ],
      "metadata": {
        "id": "qKYvlJKEyd20",
        "outputId": "c4697078-7b77-4328-c1af-f738f1359004",
        "colab": {
          "base_uri": "https://localhost:8080/"
        }
      },
      "execution_count": null,
      "outputs": [
        {
          "output_type": "stream",
          "name": "stdout",
          "text": [
            "API [cloudresourcemanager.googleapis.com] not enabled on project [383132301326].\n",
            " Would you like to enable and retry (this will take a few minutes)? (y/N)?  y\n",
            "\n",
            "Enabling service [cloudresourcemanager.googleapis.com] on project [383132301326]...\n",
            "Operation \"operations/acat.p2-383132301326-41e647ae-7d58-42cf-a8ba-4c7bfb31138a\" finished successfully.\n",
            "\n",
            "Credentials saved to file: [/content/.config/application_default_credentials.json]\n",
            "\n",
            "These credentials will be used by any library that requests Application Default Credentials (ADC).\n",
            "\n",
            "Quota project \"ornate-bond-268018\" was added to ADC which can be used by Google client libraries for billing and quota. Note that some services may still bill the project owning the resource.\n"
          ]
        }
      ]
    },
    {
      "cell_type": "code",
      "source": [
        "from google.colab import auth\n",
        "auth.authenticate_user()"
      ],
      "metadata": {
        "id": "WwoFhRfb0RDH"
      },
      "execution_count": null,
      "outputs": []
    },
    {
      "cell_type": "code",
      "source": [
        "import pprint\n",
        "\n",
        "# from absl import app\n",
        "# from absl import flags\n",
        "from absl import logging\n",
        "\n",
        "from vatt.configs import factory as config_factory\n",
        "from vatt.experiments import finetune\n",
        "from vatt.experiments import pretrain\n",
        "\n",
        "# flags.DEFINE_string('task', 'PRETRAIN', 'PRETRAIN or FINETUNE.')\n",
        "# flags.DEFINE_string('mode', 'train', 'train or eval.')\n",
        "# flags.DEFINE_string('model_dir', None, 'Default path for the experiment.')\n",
        "# flags.DEFINE_string('model_arch', 'Tx_FAC', 'Arch of the model.')\n",
        "# flags.DEFINE_string('override_checkpoint', None,\n",
        "#                     ('Path to a checkpoint for initialization. '\n",
        "#                      'If this is passed, the model is initialized from this '\n",
        "#                      'checkpoint, even if there is a valid latest checkpoint '\n",
        "#                      'inside the model_dir.'))\n",
        "# flags.DEFINE_string('config_file', None,\n",
        "#                     ('Path to a YAML config file containing the dictionary of '\n",
        "#                      'parameters to override the original params defined '\n",
        "#                      'under configs/'))\n",
        "# flags.DEFINE_string('params_override', None,\n",
        "#                     'A safe_dumped str of a dictionary of parameters')\n",
        "# flags.DEFINE_string('strategy_type', 'tpu', 'Type of the distribution strategy')\n",
        "# flags.DEFINE_string('tpu', None, 'Address of the TPU device')\n",
        "\n",
        "\n",
        "# FLAGS = flags.FLAGS\n",
        "\n",
        "\n",
        "def get_params():\n",
        "  \"\"\"Constructs the configuration of the experiment.\"\"\"\n",
        "\n",
        "  task = \"FINETUNE\"  # FLAGS.task\n",
        "  model_arch = \"vit_base\"  # FLAGS.model_arch\n",
        "  params = config_factory.build_experiment_configs(\n",
        "      task=task,\n",
        "      model_arch=model_arch,\n",
        "      )\n",
        "\n",
        "  # if FLAGS.config_file:\n",
        "  #   params.override_from_file(FLAGS.config_file)\n",
        "\n",
        " # if FLAGS.params_override:\n",
        " #    params.override_from_str(FLAGS.params_override)\n",
        "\n",
        "#  data  gs://dissertation-adk/train_1Batch_1\n",
        "\n",
        "\n",
        "  params.override({\n",
        "      'mode': \"eval\",  # FLAGS.mode,\n",
        "      'model_dir':'gs://dissertation-adk', #None, # FLAGS.model_dir,\n",
        "      'checkpoint_path': 'gs://dissertation-adk/checkpoint', #None, # FLAGS.override_checkpoint,\n",
        "      'strategy_config': {'tpu': None, # FLAGS.tpu,\n",
        "                          'distribution_strategy': \"tpu\" # FLAGS.strategy_type,            \n",
        "                          \n",
        "                          },\n",
        "  })\n",
        "\n",
        "  return params\n",
        "\n",
        "\n",
        "def main():\n",
        "  # del argv  # Unused.\n",
        "\n",
        "  params = get_params()\n",
        "  logging.info('Model Parameters: %s', pprint.pformat(params.as_dict()))\n",
        "\n",
        "  print(str(params.model_dir))\n",
        "  params.eval.input.name = \"hmdb51\"\n",
        "  print(params)\n",
        "  if params.task.lower() == 'pretrain':\n",
        "    executor = pretrain.get_executor(params=params)\n",
        "\n",
        "  elif params.task.lower() == 'finetune':\n",
        "    executor = finetune.get_executor(params=params)\n",
        "\n",
        "  else:\n",
        "    raise ValueError('Task not found: %s.' % params.task)\n",
        "\n",
        "  return executor.run(mode=params.mode)\n",
        "\n",
        "\n",
        "if __name__ == '__main__':\n",
        "  # app.run(main)\n",
        "  main()"
      ],
      "metadata": {
        "colab": {
          "base_uri": "https://localhost:8080/",
          "height": 1000
        },
        "id": "hBKus5W9TtpN",
        "outputId": "5f709dcf-9aa0-415d-bfea-902313684a09"
      },
      "execution_count": null,
      "outputs": [
        {
          "output_type": "stream",
          "name": "stdout",
          "text": [
            "gs://dissertation-adk\n",
            "Finetune(model_dir='gs://dissertation-adk', mode='eval', task='Finetune', checkpoint_path='gs://dissertation-adk/checkpoint', strategy_config=RuntimeConfig(distribution_strategy='tpu', tpu=None), model_config=ViTBase(name='vit_base', freeze_backbone=False, final_endpoint='predictions_3d', num_classes=None, cls_dropout_rate=0.5, num_test_samples=None, backbone_config=None, temporal_patch_size=4, spatial_patch_size=16, max_temporal_buckets=8, max_vertical_buckets=14, max_horizontal_buckets=14, random_patch_sampling=True, patch_sampling_rate=0.5, pre_projection=False, d_model=768, d_kv=64, d_ff=3072, num_layers=12, num_heads=12, pre_norm=True, use_bias=True, activation='gelu', dropout_rate=0.1, layer_norm_epsilon=1e-06, use_masking=False, mask_rate=0.2, post_projection=False, d_post_proj=1024, post_proj_activation='gelu'), train=TrainConfig(input=Finetune(name='kinetics400', split='', batch_size=8, num_frames=32, frame_size=224, video_stride=2, audio_stride=2, crop_resize_style='VGG', min_area_ratio=0.08, max_area_ratio=1.0, min_aspect_ratio=0.5, max_aspect_ratio=2.0, scale_jitter=True, min_resize=224, color_augment=True, zero_centering_image=True, space_to_depth=False, text_tokenizer='WordTokenizer', raw_audio=True, stft_length=0.04267, stft_step=0.02134, mel_bins=80, linearize_vision=True, mixup=False, mixup_alpha=5, audio_noise=0.0, label_smoothing=0.1, num_windows_test=4, multi_crop=True), max_checkpoints=10, iterations_per_loop=50, save_checkpoint_freq=5000, optimizer=MomentumOptimizer(name='Momentum', learning_rate=CosineDecayLearningRate(learning_rate_base=0.005, total_steps=100000, warmup_learning_rate=0.0, warmup_steps=2500), momentum=0.9, nesterov=False), gradient_clip_norm=0.75, gradient_clip_norm_cls=0.0), eval=EvalConfig(input=Finetune(name='hmdb51', split='', batch_size=8, num_frames=32, frame_size=224, video_stride=2, audio_stride=2, crop_resize_style='VGG', min_area_ratio=0.08, max_area_ratio=1.0, min_aspect_ratio=0.5, max_aspect_ratio=2.0, scale_jitter=True, min_resize=224, color_augment=True, zero_centering_image=True, space_to_depth=False, text_tokenizer='WordTokenizer', raw_audio=True, stft_length=0.04267, stft_step=0.02134, mel_bins=80, linearize_vision=True, mixup=False, mixup_alpha=5, audio_noise=0.0, label_smoothing=0.1, num_windows_test=4, multi_crop=True)))\n"
          ]
        },
        {
          "output_type": "stream",
          "name": "stderr",
          "text": [
            "WARNING:tensorflow:TPU system grpc://10.110.44.146:8470 has already been initialized. Reinitializing the TPU can cause previously created variables on TPU to be lost.\n",
            "WARNING:absl:`tf.distribute.experimental.TPUStrategy` is deprecated, please use  the non experimental symbol `tf.distribute.TPUStrategy` instead.\n"
          ]
        },
        {
          "output_type": "stream",
          "name": "stdout",
          "text": [
            "False\n",
            "HMDB51\n"
          ]
        },
        {
          "output_type": "stream",
          "name": "stderr",
          "text": [
            "WARNING:tensorflow:PermissionDeniedError: Error executing an HTTP request: HTTP response code 401 with body '{\n",
            "  \"error\": {\n",
            "    \"code\": 401,\n",
            "    \"message\": \"Anonymous caller does not have storage.objects.get access to the Google Cloud Storage object. Permission 'storage.objects.get' denied on resource (or it may not exist).\",\n",
            "    \"errors\": [\n",
            "      {\n",
            "        \"message\": \"Anonymous caller does not have storage.objects.get access to the Google Cloud Storage object. Permission 'storage.objects.get' denied on resource (or it may not exist).\",\n",
            "        \"domain\": \"global\",\n",
            "        \"reason\": \"required\",\n",
            "        '\n",
            "\t when reading metadata of gs://dissertation-adk/checkpoint\n",
            "WARNING:tensorflow:gs://dissertation-adk/checkpoint: Checkpoint ignored\n",
            "WARNING:tensorflow:PermissionDeniedError: Error executing an HTTP request: HTTP response code 401 with body '{\n",
            "  \"error\": {\n",
            "    \"code\": 401,\n",
            "    \"message\": \"Anonymous caller does not have storage.objects.get access to the Google Cloud Storage object. Permission 'storage.objects.get' denied on resource (or it may not exist).\",\n",
            "    \"errors\": [\n",
            "      {\n",
            "        \"message\": \"Anonymous caller does not have storage.objects.get access to the Google Cloud Storage object. Permission 'storage.objects.get' denied on resource (or it may not exist).\",\n",
            "        \"domain\": \"global\",\n",
            "        \"reason\": \"required\",\n",
            "        '\n",
            "\t when reading metadata of gs://dissertation-adk/checkpoint\n",
            "WARNING:tensorflow:gs://dissertation-adk/checkpoint: Checkpoint ignored\n",
            "WARNING:tensorflow:PermissionDeniedError: Error executing an HTTP request: HTTP response code 401 with body '{\n",
            "  \"error\": {\n",
            "    \"code\": 401,\n",
            "    \"message\": \"Anonymous caller does not have storage.objects.get access to the Google Cloud Storage object. Permission 'storage.objects.get' denied on resource (or it may not exist).\",\n",
            "    \"errors\": [\n",
            "      {\n",
            "        \"message\": \"Anonymous caller does not have storage.objects.get access to the Google Cloud Storage object. Permission 'storage.objects.get' denied on resource (or it may not exist).\",\n",
            "        \"domain\": \"global\",\n",
            "        \"reason\": \"required\",\n",
            "        '\n",
            "\t when reading metadata of gs://dissertation-adk/checkpoint\n",
            "WARNING:tensorflow:gs://dissertation-adk/checkpoint: Checkpoint ignored\n",
            "WARNING:tensorflow:PermissionDeniedError: Error executing an HTTP request: HTTP response code 401 with body '{\n",
            "  \"error\": {\n",
            "    \"code\": 401,\n",
            "    \"message\": \"Anonymous caller does not have storage.objects.get access to the Google Cloud Storage object. Permission 'storage.objects.get' denied on resource (or it may not exist).\",\n",
            "    \"errors\": [\n",
            "      {\n",
            "        \"message\": \"Anonymous caller does not have storage.objects.get access to the Google Cloud Storage object. Permission 'storage.objects.get' denied on resource (or it may not exist).\",\n",
            "        \"domain\": \"global\",\n",
            "        \"reason\": \"required\",\n",
            "        '\n",
            "\t when reading metadata of gs://dissertation-adk/checkpoint\n",
            "WARNING:tensorflow:gs://dissertation-adk/checkpoint: Checkpoint ignored\n",
            "WARNING:tensorflow:PermissionDeniedError: Error executing an HTTP request: HTTP response code 401 with body '{\n",
            "  \"error\": {\n",
            "    \"code\": 401,\n",
            "    \"message\": \"Anonymous caller does not have storage.objects.get access to the Google Cloud Storage object. Permission 'storage.objects.get' denied on resource (or it may not exist).\",\n",
            "    \"errors\": [\n",
            "      {\n",
            "        \"message\": \"Anonymous caller does not have storage.objects.get access to the Google Cloud Storage object. Permission 'storage.objects.get' denied on resource (or it may not exist).\",\n",
            "        \"domain\": \"global\",\n",
            "        \"reason\": \"required\",\n",
            "        '\n",
            "\t when reading metadata of gs://dissertation-adk/checkpoint\n",
            "WARNING:tensorflow:gs://dissertation-adk/checkpoint: Checkpoint ignored\n",
            "WARNING:tensorflow:PermissionDeniedError: Error executing an HTTP request: HTTP response code 401 with body '{\n",
            "  \"error\": {\n",
            "    \"code\": 401,\n",
            "    \"message\": \"Anonymous caller does not have storage.objects.get access to the Google Cloud Storage object. Permission 'storage.objects.get' denied on resource (or it may not exist).\",\n",
            "    \"errors\": [\n",
            "      {\n",
            "        \"message\": \"Anonymous caller does not have storage.objects.get access to the Google Cloud Storage object. Permission 'storage.objects.get' denied on resource (or it may not exist).\",\n",
            "        \"domain\": \"global\",\n",
            "        \"reason\": \"required\",\n",
            "        '\n",
            "\t when reading metadata of gs://dissertation-adk/checkpoint\n",
            "WARNING:tensorflow:gs://dissertation-adk/checkpoint: Checkpoint ignored\n",
            "WARNING:tensorflow:PermissionDeniedError: Error executing an HTTP request: HTTP response code 401 with body '{\n",
            "  \"error\": {\n",
            "    \"code\": 401,\n",
            "    \"message\": \"Anonymous caller does not have storage.objects.get access to the Google Cloud Storage object. Permission 'storage.objects.get' denied on resource (or it may not exist).\",\n",
            "    \"errors\": [\n",
            "      {\n",
            "        \"message\": \"Anonymous caller does not have storage.objects.get access to the Google Cloud Storage object. Permission 'storage.objects.get' denied on resource (or it may not exist).\",\n",
            "        \"domain\": \"global\",\n",
            "        \"reason\": \"required\",\n",
            "        '\n",
            "\t when reading metadata of gs://dissertation-adk/checkpoint\n",
            "WARNING:tensorflow:gs://dissertation-adk/checkpoint: Checkpoint ignored\n"
          ]
        },
        {
          "output_type": "error",
          "ename": "KeyboardInterrupt",
          "evalue": "ignored",
          "traceback": [
            "\u001b[0;31m---------------------------------------------------------------------------\u001b[0m",
            "\u001b[0;31mKeyboardInterrupt\u001b[0m                         Traceback (most recent call last)",
            "\u001b[0;32m<ipython-input-43-feb204871687>\u001b[0m in \u001b[0;36m<module>\u001b[0;34m\u001b[0m\n\u001b[1;32m     86\u001b[0m \u001b[0;32mif\u001b[0m \u001b[0m__name__\u001b[0m \u001b[0;34m==\u001b[0m \u001b[0;34m'__main__'\u001b[0m\u001b[0;34m:\u001b[0m\u001b[0;34m\u001b[0m\u001b[0;34m\u001b[0m\u001b[0m\n\u001b[1;32m     87\u001b[0m   \u001b[0;31m# app.run(main)\u001b[0m\u001b[0;34m\u001b[0m\u001b[0;34m\u001b[0m\u001b[0;34m\u001b[0m\u001b[0m\n\u001b[0;32m---> 88\u001b[0;31m   \u001b[0mmain\u001b[0m\u001b[0;34m(\u001b[0m\u001b[0;34m)\u001b[0m\u001b[0;34m\u001b[0m\u001b[0;34m\u001b[0m\u001b[0m\n\u001b[0m",
            "\u001b[0;32m<ipython-input-43-feb204871687>\u001b[0m in \u001b[0;36mmain\u001b[0;34m()\u001b[0m\n\u001b[1;32m     81\u001b[0m     \u001b[0;32mraise\u001b[0m \u001b[0mValueError\u001b[0m\u001b[0;34m(\u001b[0m\u001b[0;34m'Task not found: %s.'\u001b[0m \u001b[0;34m%\u001b[0m \u001b[0mparams\u001b[0m\u001b[0;34m.\u001b[0m\u001b[0mtask\u001b[0m\u001b[0;34m)\u001b[0m\u001b[0;34m\u001b[0m\u001b[0;34m\u001b[0m\u001b[0m\n\u001b[1;32m     82\u001b[0m \u001b[0;34m\u001b[0m\u001b[0m\n\u001b[0;32m---> 83\u001b[0;31m   \u001b[0;32mreturn\u001b[0m \u001b[0mexecutor\u001b[0m\u001b[0;34m.\u001b[0m\u001b[0mrun\u001b[0m\u001b[0;34m(\u001b[0m\u001b[0mmode\u001b[0m\u001b[0;34m=\u001b[0m\u001b[0mparams\u001b[0m\u001b[0;34m.\u001b[0m\u001b[0mmode\u001b[0m\u001b[0;34m)\u001b[0m\u001b[0;34m\u001b[0m\u001b[0;34m\u001b[0m\u001b[0m\n\u001b[0m\u001b[1;32m     84\u001b[0m \u001b[0;34m\u001b[0m\u001b[0m\n\u001b[1;32m     85\u001b[0m \u001b[0;34m\u001b[0m\u001b[0m\n",
            "\u001b[0;32m/content/google-research/vatt/experiments/base.py\u001b[0m in \u001b[0;36mrun\u001b[0;34m(self, mode)\u001b[0m\n\u001b[1;32m    497\u001b[0m \u001b[0;34m\u001b[0m\u001b[0m\n\u001b[1;32m    498\u001b[0m     \u001b[0;32melif\u001b[0m \u001b[0mmode\u001b[0m \u001b[0;34m==\u001b[0m \u001b[0;34m'eval'\u001b[0m\u001b[0;34m:\u001b[0m\u001b[0;34m\u001b[0m\u001b[0;34m\u001b[0m\u001b[0m\n\u001b[0;32m--> 499\u001b[0;31m       \u001b[0mself\u001b[0m\u001b[0;34m.\u001b[0m\u001b[0mevaluate\u001b[0m\u001b[0;34m(\u001b[0m\u001b[0;34m)\u001b[0m\u001b[0;34m\u001b[0m\u001b[0;34m\u001b[0m\u001b[0m\n\u001b[0m\u001b[1;32m    500\u001b[0m \u001b[0;34m\u001b[0m\u001b[0m\n\u001b[1;32m    501\u001b[0m     \u001b[0;32melse\u001b[0m\u001b[0;34m:\u001b[0m\u001b[0;34m\u001b[0m\u001b[0;34m\u001b[0m\u001b[0m\n",
            "\u001b[0;32m/content/google-research/vatt/experiments/base.py\u001b[0m in \u001b[0;36mevaluate\u001b[0;34m(self)\u001b[0m\n\u001b[1;32m    460\u001b[0m \u001b[0;34m\u001b[0m\u001b[0m\n\u001b[1;32m    461\u001b[0m     \u001b[0;32melse\u001b[0m\u001b[0;34m:\u001b[0m\u001b[0;34m\u001b[0m\u001b[0;34m\u001b[0m\u001b[0m\n\u001b[0;32m--> 462\u001b[0;31m       for latest_checkpoint_path in tf.train.checkpoints_iterator(\n\u001b[0m\u001b[1;32m    463\u001b[0m           \u001b[0mmodel_dir\u001b[0m\u001b[0;34m,\u001b[0m\u001b[0;34m\u001b[0m\u001b[0;34m\u001b[0m\u001b[0m\n\u001b[1;32m    464\u001b[0m           \u001b[0mmin_interval_secs\u001b[0m\u001b[0;34m=\u001b[0m\u001b[0;36m180\u001b[0m\u001b[0;34m,\u001b[0m\u001b[0;34m\u001b[0m\u001b[0;34m\u001b[0m\u001b[0m\n",
            "\u001b[0;32m/usr/local/lib/python3.8/dist-packages/tensorflow/python/training/checkpoint_utils.py\u001b[0m in \u001b[0;36mcheckpoints_iterator\u001b[0;34m(checkpoint_dir, min_interval_secs, timeout, timeout_fn)\u001b[0m\n\u001b[1;32m    196\u001b[0m   \u001b[0mcheckpoint_path\u001b[0m \u001b[0;34m=\u001b[0m \u001b[0;32mNone\u001b[0m\u001b[0;34m\u001b[0m\u001b[0;34m\u001b[0m\u001b[0m\n\u001b[1;32m    197\u001b[0m   \u001b[0;32mwhile\u001b[0m \u001b[0;32mTrue\u001b[0m\u001b[0;34m:\u001b[0m\u001b[0;34m\u001b[0m\u001b[0;34m\u001b[0m\u001b[0m\n\u001b[0;32m--> 198\u001b[0;31m     new_checkpoint_path = wait_for_new_checkpoint(\n\u001b[0m\u001b[1;32m    199\u001b[0m         checkpoint_dir, checkpoint_path, timeout=timeout)\n\u001b[1;32m    200\u001b[0m     \u001b[0;32mif\u001b[0m \u001b[0mnew_checkpoint_path\u001b[0m \u001b[0;32mis\u001b[0m \u001b[0;32mNone\u001b[0m\u001b[0;34m:\u001b[0m\u001b[0;34m\u001b[0m\u001b[0;34m\u001b[0m\u001b[0m\n",
            "\u001b[0;32m/usr/local/lib/python3.8/dist-packages/tensorflow/python/training/checkpoint_utils.py\u001b[0m in \u001b[0;36mwait_for_new_checkpoint\u001b[0;34m(checkpoint_dir, last_checkpoint, seconds_to_sleep, timeout)\u001b[0m\n\u001b[1;32m    145\u001b[0m       \u001b[0;32mif\u001b[0m \u001b[0mstop_time\u001b[0m \u001b[0;32mis\u001b[0m \u001b[0;32mnot\u001b[0m \u001b[0;32mNone\u001b[0m \u001b[0;32mand\u001b[0m \u001b[0mtime\u001b[0m\u001b[0;34m.\u001b[0m\u001b[0mtime\u001b[0m\u001b[0;34m(\u001b[0m\u001b[0;34m)\u001b[0m \u001b[0;34m+\u001b[0m \u001b[0mseconds_to_sleep\u001b[0m \u001b[0;34m>\u001b[0m \u001b[0mstop_time\u001b[0m\u001b[0;34m:\u001b[0m\u001b[0;34m\u001b[0m\u001b[0;34m\u001b[0m\u001b[0m\n\u001b[1;32m    146\u001b[0m         \u001b[0;32mreturn\u001b[0m \u001b[0;32mNone\u001b[0m\u001b[0;34m\u001b[0m\u001b[0;34m\u001b[0m\u001b[0m\n\u001b[0;32m--> 147\u001b[0;31m       \u001b[0mtime\u001b[0m\u001b[0;34m.\u001b[0m\u001b[0msleep\u001b[0m\u001b[0;34m(\u001b[0m\u001b[0mseconds_to_sleep\u001b[0m\u001b[0;34m)\u001b[0m\u001b[0;34m\u001b[0m\u001b[0;34m\u001b[0m\u001b[0m\n\u001b[0m\u001b[1;32m    148\u001b[0m     \u001b[0;32melse\u001b[0m\u001b[0;34m:\u001b[0m\u001b[0;34m\u001b[0m\u001b[0;34m\u001b[0m\u001b[0m\n\u001b[1;32m    149\u001b[0m       \u001b[0mlogging\u001b[0m\u001b[0;34m.\u001b[0m\u001b[0minfo\u001b[0m\u001b[0;34m(\u001b[0m\u001b[0;34m\"Found new checkpoint at %s\"\u001b[0m\u001b[0;34m,\u001b[0m \u001b[0mcheckpoint_path\u001b[0m\u001b[0;34m)\u001b[0m\u001b[0;34m\u001b[0m\u001b[0;34m\u001b[0m\u001b[0m\n",
            "\u001b[0;31mKeyboardInterrupt\u001b[0m: "
          ]
        }
      ]
    },
    {
      "cell_type": "code",
      "source": [],
      "metadata": {
        "id": "YkgLAF8CP8oF"
      },
      "execution_count": null,
      "outputs": []
    }
  ]
}